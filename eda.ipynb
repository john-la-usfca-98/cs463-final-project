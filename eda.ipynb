{
 "cells": [
  {
   "cell_type": "code",
   "execution_count": 3,
   "id": "a1d420b7-efd1-4653-8c0d-409421d5ed4d",
   "metadata": {},
   "outputs": [
    {
     "data": {
      "text/html": [
       "<div>\n",
       "<style scoped>\n",
       "    .dataframe tbody tr th:only-of-type {\n",
       "        vertical-align: middle;\n",
       "    }\n",
       "\n",
       "    .dataframe tbody tr th {\n",
       "        vertical-align: top;\n",
       "    }\n",
       "\n",
       "    .dataframe thead th {\n",
       "        text-align: right;\n",
       "    }\n",
       "</style>\n",
       "<table border=\"1\" class=\"dataframe\">\n",
       "  <thead>\n",
       "    <tr style=\"text-align: right;\">\n",
       "      <th></th>\n",
       "      <th>Photo</th>\n",
       "      <th>Disease</th>\n",
       "      <th>Type of Plant</th>\n",
       "      <th>Condition</th>\n",
       "    </tr>\n",
       "  </thead>\n",
       "  <tbody>\n",
       "    <tr>\n",
       "      <th>0</th>\n",
       "      <td>8f558908-aa1b-4a86-855a-5094c2392e5a___RS_HL 1...</td>\n",
       "      <td>healthy</td>\n",
       "      <td>Strawberry</td>\n",
       "      <td>1</td>\n",
       "    </tr>\n",
       "    <tr>\n",
       "      <th>1</th>\n",
       "      <td>b8e9ed27-8e37-4214-9206-f8c0ef21cf4d___RS_HL 4...</td>\n",
       "      <td>healthy</td>\n",
       "      <td>Strawberry</td>\n",
       "      <td>1</td>\n",
       "    </tr>\n",
       "    <tr>\n",
       "      <th>2</th>\n",
       "      <td>abdd34a0-ab02-41e0-95a3-a014ab863ec2___RS_HL 1...</td>\n",
       "      <td>healthy</td>\n",
       "      <td>Strawberry</td>\n",
       "      <td>1</td>\n",
       "    </tr>\n",
       "    <tr>\n",
       "      <th>3</th>\n",
       "      <td>d1aee44a-b6bb-45b9-b7b6-5d553add8fd1___RS_HL 2...</td>\n",
       "      <td>healthy</td>\n",
       "      <td>Strawberry</td>\n",
       "      <td>1</td>\n",
       "    </tr>\n",
       "    <tr>\n",
       "      <th>4</th>\n",
       "      <td>3d28c3ea-8419-4e09-addd-211e3828e39f___RS_HL 1...</td>\n",
       "      <td>healthy</td>\n",
       "      <td>Strawberry</td>\n",
       "      <td>1</td>\n",
       "    </tr>\n",
       "    <tr>\n",
       "      <th>...</th>\n",
       "      <td>...</td>\n",
       "      <td>...</td>\n",
       "      <td>...</td>\n",
       "      <td>...</td>\n",
       "    </tr>\n",
       "    <tr>\n",
       "      <th>54300</th>\n",
       "      <td>57c18b39-2a33-471f-91eb-a9ba4ddabc7b___RS_HL 6...</td>\n",
       "      <td>healthy</td>\n",
       "      <td>Soybean</td>\n",
       "      <td>1</td>\n",
       "    </tr>\n",
       "    <tr>\n",
       "      <th>54301</th>\n",
       "      <td>4fdc663e-a8ea-4d8a-801b-ef18ad192661___RS_HL 6...</td>\n",
       "      <td>healthy</td>\n",
       "      <td>Soybean</td>\n",
       "      <td>1</td>\n",
       "    </tr>\n",
       "    <tr>\n",
       "      <th>54302</th>\n",
       "      <td>df807f13-078b-4a6a-9c23-e43e540ecdc2___RS_HL 5...</td>\n",
       "      <td>healthy</td>\n",
       "      <td>Soybean</td>\n",
       "      <td>1</td>\n",
       "    </tr>\n",
       "    <tr>\n",
       "      <th>54303</th>\n",
       "      <td>60bf9858-951a-4b56-906e-3c1b336973ba___RS_HL 4...</td>\n",
       "      <td>healthy</td>\n",
       "      <td>Soybean</td>\n",
       "      <td>1</td>\n",
       "    </tr>\n",
       "    <tr>\n",
       "      <th>54304</th>\n",
       "      <td>c7f4b7b2-b13c-476e-a936-c91ce39749a3___RS_HL 6...</td>\n",
       "      <td>healthy</td>\n",
       "      <td>Soybean</td>\n",
       "      <td>1</td>\n",
       "    </tr>\n",
       "  </tbody>\n",
       "</table>\n",
       "<p>54305 rows × 4 columns</p>\n",
       "</div>"
      ],
      "text/plain": [
       "                                                   Photo  Disease  \\\n",
       "0      8f558908-aa1b-4a86-855a-5094c2392e5a___RS_HL 1...  healthy   \n",
       "1      b8e9ed27-8e37-4214-9206-f8c0ef21cf4d___RS_HL 4...  healthy   \n",
       "2      abdd34a0-ab02-41e0-95a3-a014ab863ec2___RS_HL 1...  healthy   \n",
       "3      d1aee44a-b6bb-45b9-b7b6-5d553add8fd1___RS_HL 2...  healthy   \n",
       "4      3d28c3ea-8419-4e09-addd-211e3828e39f___RS_HL 1...  healthy   \n",
       "...                                                  ...      ...   \n",
       "54300  57c18b39-2a33-471f-91eb-a9ba4ddabc7b___RS_HL 6...  healthy   \n",
       "54301  4fdc663e-a8ea-4d8a-801b-ef18ad192661___RS_HL 6...  healthy   \n",
       "54302  df807f13-078b-4a6a-9c23-e43e540ecdc2___RS_HL 5...  healthy   \n",
       "54303  60bf9858-951a-4b56-906e-3c1b336973ba___RS_HL 4...  healthy   \n",
       "54304  c7f4b7b2-b13c-476e-a936-c91ce39749a3___RS_HL 6...  healthy   \n",
       "\n",
       "      Type of Plant  Condition  \n",
       "0        Strawberry          1  \n",
       "1        Strawberry          1  \n",
       "2        Strawberry          1  \n",
       "3        Strawberry          1  \n",
       "4        Strawberry          1  \n",
       "...             ...        ...  \n",
       "54300       Soybean          1  \n",
       "54301       Soybean          1  \n",
       "54302       Soybean          1  \n",
       "54303       Soybean          1  \n",
       "54304       Soybean          1  \n",
       "\n",
       "[54305 rows x 4 columns]"
      ]
     },
     "execution_count": 3,
     "metadata": {},
     "output_type": "execute_result"
    }
   ],
   "source": [
    "import os, sys\n",
    "import pandas as pd\n",
    "\n",
    "dir = os.listdir(\"data/color\")\n",
    "df = pd.DataFrame()\n",
    "\n",
    "photo_array = []; condition_array = []; disease_array = []; type_of_plant_array = []\n",
    "condition = 0; type_of_plant = \"\"; disease = \"\"\n",
    "\n",
    "for file in dir:\n",
    "    if file != \".DS_Store\":\n",
    "        dir_photos = os.listdir(\"data/color/\" + file)\n",
    "        if file.__contains__(\"healthy\"):\n",
    "            condition = 1\n",
    "        else:\n",
    "            condition = 0\n",
    "\n",
    "        diseased = (file.split(\"___\"))[1]\n",
    "        type_of_plant = (file.split(\"___\")[0])\n",
    "        \n",
    "        \n",
    "        for photo in dir_photos:\n",
    "           condition_array.append(condition)\n",
    "           disease_array.append(diseased)\n",
    "           photo_array.append(photo)\n",
    "           type_of_plant_array.append(type_of_plant)\n",
    "\n",
    "df['Photo'] = photo_array\n",
    "df['Disease'] = disease_array\n",
    "df['Type of Plant'] = type_of_plant_array\n",
    "df['Condition'] = condition_array\n",
    "\n",
    "df"
   ]
  },
  {
   "cell_type": "code",
   "execution_count": 4,
   "id": "aee0dc84-82a0-4f98-b07d-29601984c354",
   "metadata": {},
   "outputs": [
    {
     "name": "stdout",
     "output_type": "stream",
     "text": [
      "<class 'pandas.core.frame.DataFrame'>\n",
      "RangeIndex: 54305 entries, 0 to 54304\n",
      "Data columns (total 4 columns):\n",
      " #   Column         Non-Null Count  Dtype \n",
      "---  ------         --------------  ----- \n",
      " 0   Photo          54305 non-null  object\n",
      " 1   Disease        54305 non-null  object\n",
      " 2   Type of Plant  54305 non-null  object\n",
      " 3   Condition      54305 non-null  int64 \n",
      "dtypes: int64(1), object(3)\n",
      "memory usage: 1.7+ MB\n"
     ]
    }
   ],
   "source": [
    "df.info()"
   ]
  },
  {
   "cell_type": "code",
   "execution_count": 5,
   "id": "db0da4b8-36a3-4cf5-bab6-f8406e61d3c3",
   "metadata": {},
   "outputs": [
    {
     "data": {
      "text/plain": [
       "array(['healthy', 'Black_rot', 'Early_blight', 'Target_Spot',\n",
       "       'Late_blight', 'Tomato_mosaic_virus',\n",
       "       'Haunglongbing_(Citrus_greening)', 'Leaf_Mold',\n",
       "       'Leaf_blight_(Isariopsis_Leaf_Spot)', 'Powdery_mildew',\n",
       "       'Cedar_apple_rust', 'Bacterial_spot', 'Common_rust_',\n",
       "       'Esca_(Black_Measles)', 'Tomato_Yellow_Leaf_Curl_Virus',\n",
       "       'Apple_scab', 'Northern_Leaf_Blight',\n",
       "       'Spider_mites Two-spotted_spider_mite', 'Septoria_leaf_spot',\n",
       "       'Cercospora_leaf_spot Gray_leaf_spot', 'Leaf_scorch'], dtype=object)"
      ]
     },
     "execution_count": 5,
     "metadata": {},
     "output_type": "execute_result"
    }
   ],
   "source": [
    "\n",
    "df.Disease.unique()"
   ]
  },
  {
   "cell_type": "code",
   "execution_count": 7,
   "id": "93c00544-356c-43ea-9a5f-1bb9d056a0aa",
   "metadata": {},
   "outputs": [
    {
     "data": {
      "text/plain": [
       "array(['Strawberry', 'Grape', 'Potato', 'Blueberry', 'Corn_(maize)',\n",
       "       'Tomato', 'Peach', 'Pepper,_bell', 'Orange',\n",
       "       'Cherry_(including_sour)', 'Apple', 'Raspberry', 'Squash',\n",
       "       'Soybean'], dtype=object)"
      ]
     },
     "execution_count": 7,
     "metadata": {},
     "output_type": "execute_result"
    }
   ],
   "source": [
    "df['Type of Plant'].unique()"
   ]
  },
  {
   "cell_type": "code",
   "execution_count": 11,
   "id": "98bf3767-d60f-4c21-80a2-2363178b2319",
   "metadata": {},
   "outputs": [
    {
     "data": {
      "text/plain": [
       "Condition\n",
       "0    39221\n",
       "1    15084\n",
       "Name: count, dtype: int64"
      ]
     },
     "execution_count": 11,
     "metadata": {},
     "output_type": "execute_result"
    }
   ],
   "source": [
    "df.Condition.value_counts()"
   ]
  },
  {
   "cell_type": "code",
   "execution_count": 42,
   "id": "f06dc401-f4a4-46fb-8b5e-6d2d69b81109",
   "metadata": {},
   "outputs": [
    {
     "name": "stdout",
     "output_type": "stream",
     "text": [
      "Strawberry___healthy: 256, 256\n",
      "Grape___Black_rot: 256, 256\n",
      "Potato___Early_blight: 256, 256\n",
      "Blueberry___healthy: 256, 256\n",
      "Corn_(maize)___healthy: 256, 256\n",
      "Tomato___Target_Spot: 256, 256\n",
      "Peach___healthy: 256, 256\n",
      "Potato___Late_blight: 256, 256\n",
      "Tomato___Late_blight: 256, 256\n",
      "Tomato___Tomato_mosaic_virus: 256, 256\n",
      "Pepper,_bell___healthy: 256, 256\n",
      "Orange___Haunglongbing_(Citrus_greening): 256, 256\n",
      "Tomato___Leaf_Mold: 256, 256\n",
      "Grape___Leaf_blight_(Isariopsis_Leaf_Spot): 256, 256\n",
      "Cherry_(including_sour)___Powdery_mildew: 256, 256\n",
      "Apple___Cedar_apple_rust: 256, 256\n",
      "Tomato___Bacterial_spot: 256, 256\n",
      "Grape___healthy: 256, 256\n",
      "Tomato___Early_blight: 256, 256\n",
      "Corn_(maize)___Common_rust_: 256, 256\n",
      "Grape___Esca_(Black_Measles): 256, 256\n",
      "Raspberry___healthy: 256, 256\n",
      "Tomato___healthy: 256, 256\n",
      "Cherry_(including_sour)___healthy: 256, 256\n",
      "Tomato___Tomato_Yellow_Leaf_Curl_Virus: 256, 256\n",
      "Apple___Apple_scab: 256, 256\n",
      "Corn_(maize)___Northern_Leaf_Blight: 256, 256\n",
      "Tomato___Spider_mites Two-spotted_spider_mite: 256, 256\n",
      "Peach___Bacterial_spot: 256, 256\n",
      "Pepper,_bell___Bacterial_spot: 256, 256\n",
      "Tomato___Septoria_leaf_spot: 256, 256\n",
      "Squash___Powdery_mildew: 256, 256\n",
      "Corn_(maize)___Cercospora_leaf_spot Gray_leaf_spot: 256, 256\n",
      "Apple___Black_rot: 256, 256\n",
      "Apple___healthy: 256, 256\n",
      "Strawberry___Leaf_scorch: 256, 256\n",
      "Potato___healthy: 256, 256\n",
      "Soybean___healthy: 256, 256\n"
     ]
    }
   ],
   "source": [
    "from PIL import Image \n",
    "\n",
    "dir = os.listdir(\"data/color\")\n",
    "\n",
    "for file in dir:\n",
    "    if file != \".DS_Store\":\n",
    "        dir_photos = os.listdir(\"data/color/\" + file)\n",
    "        photos = os.listdir(\"data/color\")\n",
    "        path = \"data/color/\" + file + \"/\" + dir_photos[0]\n",
    "        img = Image.open(path) \n",
    "        width = img.width \n",
    "        height = img.height\n",
    "        print(file + \": \" + str(width) + \", \" + str(height))        "
   ]
  },
  {
   "cell_type": "markdown",
   "id": "defe307f-178f-4c67-ad2d-18e78bb6fd5f",
   "metadata": {},
   "source": [
    "## Its probably fine to make the assumption that all the photos are the same size, so no work needs to be done there"
   ]
  },
  {
   "cell_type": "code",
   "execution_count": null,
   "id": "0b419bf2-c648-451c-abb9-ff86cd6d0e2d",
   "metadata": {},
   "outputs": [],
   "source": []
  }
 ],
 "metadata": {
  "kernelspec": {
   "display_name": "Python 3 (ipykernel)",
   "language": "python",
   "name": "python3"
  },
  "language_info": {
   "codemirror_mode": {
    "name": "ipython",
    "version": 3
   },
   "file_extension": ".py",
   "mimetype": "text/x-python",
   "name": "python",
   "nbconvert_exporter": "python",
   "pygments_lexer": "ipython3",
   "version": "3.10.7"
  }
 },
 "nbformat": 4,
 "nbformat_minor": 5
}
